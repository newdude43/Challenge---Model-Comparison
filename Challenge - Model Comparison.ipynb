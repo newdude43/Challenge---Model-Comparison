{
 "cells": [
  {
   "cell_type": "code",
   "execution_count": 1,
   "metadata": {},
   "outputs": [],
   "source": [
    "import pandas as pd\n",
    "import numpy as np\n",
    "import scipy\n",
    "import matplotlib.pyplot as plt\n",
    "%matplotlib inline"
   ]
  },
  {
   "cell_type": "markdown",
   "metadata": {},
   "source": [
    "## NHL Player Stats 2004 - 2018"
   ]
  },
  {
   "cell_type": "markdown",
   "metadata": {},
   "source": [
    "via https://www.kaggle.com/xavya77/nhl04to18"
   ]
  },
  {
   "cell_type": "code",
   "execution_count": 2,
   "metadata": {},
   "outputs": [],
   "source": [
    "df = pd.read_csv('NHL.csv', encoding = \"ISO-8859-1\")"
   ]
  },
  {
   "cell_type": "code",
   "execution_count": 3,
   "metadata": {},
   "outputs": [
    {
     "data": {
      "text/html": [
       "<div>\n",
       "<style scoped>\n",
       "    .dataframe tbody tr th:only-of-type {\n",
       "        vertical-align: middle;\n",
       "    }\n",
       "\n",
       "    .dataframe tbody tr th {\n",
       "        vertical-align: top;\n",
       "    }\n",
       "\n",
       "    .dataframe thead th {\n",
       "        text-align: right;\n",
       "    }\n",
       "</style>\n",
       "<table border=\"1\" class=\"dataframe\">\n",
       "  <thead>\n",
       "    <tr style=\"text-align: right;\">\n",
       "      <th></th>\n",
       "      <th>Rk</th>\n",
       "      <th>Player</th>\n",
       "      <th>Age</th>\n",
       "      <th>Pos</th>\n",
       "      <th>Tm</th>\n",
       "      <th>GP</th>\n",
       "      <th>G</th>\n",
       "      <th>A</th>\n",
       "      <th>PTS</th>\n",
       "      <th>plusminus</th>\n",
       "      <th>...</th>\n",
       "      <th>TOI</th>\n",
       "      <th>ATOI</th>\n",
       "      <th>BLK</th>\n",
       "      <th>HIT</th>\n",
       "      <th>FOW</th>\n",
       "      <th>FOL</th>\n",
       "      <th>FO_percent</th>\n",
       "      <th>HART</th>\n",
       "      <th>Votes</th>\n",
       "      <th>Season</th>\n",
       "    </tr>\n",
       "  </thead>\n",
       "  <tbody>\n",
       "    <tr>\n",
       "      <th>0</th>\n",
       "      <td>1</td>\n",
       "      <td>Connor McDavid\\mcdavco01</td>\n",
       "      <td>20</td>\n",
       "      <td>C</td>\n",
       "      <td>EDM</td>\n",
       "      <td>82</td>\n",
       "      <td>30</td>\n",
       "      <td>70</td>\n",
       "      <td>100</td>\n",
       "      <td>27</td>\n",
       "      <td>...</td>\n",
       "      <td>1733</td>\n",
       "      <td>21.133333</td>\n",
       "      <td>29</td>\n",
       "      <td>34</td>\n",
       "      <td>348</td>\n",
       "      <td>458</td>\n",
       "      <td>43.2</td>\n",
       "      <td>1</td>\n",
       "      <td>1604</td>\n",
       "      <td>2017</td>\n",
       "    </tr>\n",
       "    <tr>\n",
       "      <th>1</th>\n",
       "      <td>2</td>\n",
       "      <td>Sidney Crosby\\crosbsi01</td>\n",
       "      <td>29</td>\n",
       "      <td>C</td>\n",
       "      <td>PIT</td>\n",
       "      <td>75</td>\n",
       "      <td>44</td>\n",
       "      <td>45</td>\n",
       "      <td>89</td>\n",
       "      <td>17</td>\n",
       "      <td>...</td>\n",
       "      <td>1491</td>\n",
       "      <td>19.883333</td>\n",
       "      <td>27</td>\n",
       "      <td>80</td>\n",
       "      <td>842</td>\n",
       "      <td>906</td>\n",
       "      <td>48.2</td>\n",
       "      <td>0</td>\n",
       "      <td>1104</td>\n",
       "      <td>2017</td>\n",
       "    </tr>\n",
       "    <tr>\n",
       "      <th>2</th>\n",
       "      <td>3</td>\n",
       "      <td>Patrick Kane\\kanepa01</td>\n",
       "      <td>28</td>\n",
       "      <td>RW</td>\n",
       "      <td>CHI</td>\n",
       "      <td>82</td>\n",
       "      <td>34</td>\n",
       "      <td>55</td>\n",
       "      <td>89</td>\n",
       "      <td>11</td>\n",
       "      <td>...</td>\n",
       "      <td>1754</td>\n",
       "      <td>21.400000</td>\n",
       "      <td>15</td>\n",
       "      <td>28</td>\n",
       "      <td>7</td>\n",
       "      <td>44</td>\n",
       "      <td>13.7</td>\n",
       "      <td>0</td>\n",
       "      <td>206</td>\n",
       "      <td>2017</td>\n",
       "    </tr>\n",
       "    <tr>\n",
       "      <th>3</th>\n",
       "      <td>4</td>\n",
       "      <td>Nicklas Backstrom\\backsni02</td>\n",
       "      <td>29</td>\n",
       "      <td>C</td>\n",
       "      <td>WSH</td>\n",
       "      <td>82</td>\n",
       "      <td>23</td>\n",
       "      <td>63</td>\n",
       "      <td>86</td>\n",
       "      <td>17</td>\n",
       "      <td>...</td>\n",
       "      <td>1497</td>\n",
       "      <td>18.266667</td>\n",
       "      <td>33</td>\n",
       "      <td>45</td>\n",
       "      <td>685</td>\n",
       "      <td>648</td>\n",
       "      <td>51.4</td>\n",
       "      <td>0</td>\n",
       "      <td>60</td>\n",
       "      <td>2017</td>\n",
       "    </tr>\n",
       "    <tr>\n",
       "      <th>4</th>\n",
       "      <td>5</td>\n",
       "      <td>Nikita Kucherov\\kucheni01</td>\n",
       "      <td>23</td>\n",
       "      <td>RW</td>\n",
       "      <td>TBL</td>\n",
       "      <td>74</td>\n",
       "      <td>40</td>\n",
       "      <td>45</td>\n",
       "      <td>85</td>\n",
       "      <td>13</td>\n",
       "      <td>...</td>\n",
       "      <td>1438</td>\n",
       "      <td>19.433333</td>\n",
       "      <td>20</td>\n",
       "      <td>30</td>\n",
       "      <td>0</td>\n",
       "      <td>0</td>\n",
       "      <td>0.0</td>\n",
       "      <td>0</td>\n",
       "      <td>119</td>\n",
       "      <td>2017</td>\n",
       "    </tr>\n",
       "  </tbody>\n",
       "</table>\n",
       "<p>5 rows × 31 columns</p>\n",
       "</div>"
      ],
      "text/plain": [
       "   Rk                       Player  Age Pos   Tm  GP   G   A  PTS  plusminus  \\\n",
       "0   1     Connor McDavid\\mcdavco01   20   C  EDM  82  30  70  100         27   \n",
       "1   2      Sidney Crosby\\crosbsi01   29   C  PIT  75  44  45   89         17   \n",
       "2   3        Patrick Kane\\kanepa01   28  RW  CHI  82  34  55   89         11   \n",
       "3   4  Nicklas Backstrom\\backsni02   29   C  WSH  82  23  63   86         17   \n",
       "4   5    Nikita Kucherov\\kucheni01   23  RW  TBL  74  40  45   85         13   \n",
       "\n",
       "    ...     TOI       ATOI  BLK  HIT  FOW  FOL  FO_percent  HART  Votes  \\\n",
       "0   ...    1733  21.133333   29   34  348  458        43.2     1   1604   \n",
       "1   ...    1491  19.883333   27   80  842  906        48.2     0   1104   \n",
       "2   ...    1754  21.400000   15   28    7   44        13.7     0    206   \n",
       "3   ...    1497  18.266667   33   45  685  648        51.4     0     60   \n",
       "4   ...    1438  19.433333   20   30    0    0         0.0     0    119   \n",
       "\n",
       "   Season  \n",
       "0    2017  \n",
       "1    2017  \n",
       "2    2017  \n",
       "3    2017  \n",
       "4    2017  \n",
       "\n",
       "[5 rows x 31 columns]"
      ]
     },
     "execution_count": 3,
     "metadata": {},
     "output_type": "execute_result"
    }
   ],
   "source": [
    "df.head()"
   ]
  },
  {
   "cell_type": "markdown",
   "metadata": {},
   "source": [
    "## Predict games played (GP) based on goals (G), assists (A), time on ice (TOI) , and hits (HIT)"
   ]
  },
  {
   "cell_type": "code",
   "execution_count": 4,
   "metadata": {},
   "outputs": [
    {
     "data": {
      "text/plain": [
       "KNeighborsRegressor(algorithm='auto', leaf_size=30, metric='minkowski',\n",
       "          metric_params=None, n_jobs=1, n_neighbors=10, p=2,\n",
       "          weights='uniform')"
      ]
     },
     "execution_count": 4,
     "metadata": {},
     "output_type": "execute_result"
    }
   ],
   "source": [
    "from sklearn import neighbors\n",
    "\n",
    "# Build our model.\n",
    "knn = neighbors.KNeighborsRegressor(n_neighbors=10)\n",
    "X = df[['G', 'A', 'TOI', 'HIT']]\n",
    "Y = df.GP\n",
    "knn.fit(X, Y)"
   ]
  },
  {
   "cell_type": "code",
   "execution_count": 5,
   "metadata": {},
   "outputs": [
    {
     "data": {
      "text/plain": [
       "KNeighborsRegressor(algorithm='auto', leaf_size=30, metric='minkowski',\n",
       "          metric_params=None, n_jobs=1, n_neighbors=10, p=2,\n",
       "          weights='distance')"
      ]
     },
     "execution_count": 5,
     "metadata": {},
     "output_type": "execute_result"
    }
   ],
   "source": [
    "# Run the same model, this time with weights.\n",
    "knn_w = neighbors.KNeighborsRegressor(n_neighbors=10, weights='distance')\n",
    "X = df[['G', 'A', 'TOI', 'HIT']]\n",
    "Y = df.GP\n",
    "knn_w.fit(X, Y)"
   ]
  },
  {
   "cell_type": "code",
   "execution_count": 6,
   "metadata": {},
   "outputs": [
    {
     "name": "stdout",
     "output_type": "stream",
     "text": [
      "Unweighted Accuracy: 0.92 (+/- 0.03)\n",
      "Weighted Accuracy: 0.93 (+/- 0.03)\n"
     ]
    }
   ],
   "source": [
    "from sklearn.model_selection import cross_val_score\n",
    "score = cross_val_score(knn, X, Y, cv=5)\n",
    "print(\"Unweighted Accuracy: %0.2f (+/- %0.2f)\" % (score.mean(), score.std() * 2))\n",
    "score_w = cross_val_score(knn_w, X, Y, cv=5)\n",
    "print(\"Weighted Accuracy: %0.2f (+/- %0.2f)\" % (score_w.mean(), score_w.std() * 2))"
   ]
  },
  {
   "cell_type": "code",
   "execution_count": 7,
   "metadata": {},
   "outputs": [
    {
     "name": "stderr",
     "output_type": "stream",
     "text": [
      "/usr/local/lib/python3.6/site-packages/sklearn/linear_model/base.py:509: RuntimeWarning: internal gelsd driver lwork query error, required iwork dimension not returned. This is likely the result of LAPACK bug 0038, fixed in LAPACK 3.2.2 (released July 21, 2010). Falling back to 'gelss' driver.\n",
      "  linalg.lstsq(X, y)\n"
     ]
    },
    {
     "data": {
      "text/plain": [
       "LinearRegression(copy_X=True, fit_intercept=True, n_jobs=1, normalize=False)"
      ]
     },
     "execution_count": 7,
     "metadata": {},
     "output_type": "execute_result"
    }
   ],
   "source": [
    "from sklearn import linear_model\n",
    "\n",
    "# Instantiate our model.\n",
    "regr = linear_model.LinearRegression()\n",
    "\n",
    "# Fit our model to our data.\n",
    "regr.fit(X, Y)"
   ]
  },
  {
   "cell_type": "code",
   "execution_count": 8,
   "metadata": {},
   "outputs": [
    {
     "name": "stdout",
     "output_type": "stream",
     "text": [
      "OLS Accuracy: 0.85 (+/- 0.06)\n"
     ]
    }
   ],
   "source": [
    "score = cross_val_score(regr, X, Y, cv=5)\n",
    "print(\"OLS Accuracy: %0.2f (+/- %0.2f)\" % (score.mean(), score.std() * 2))"
   ]
  },
  {
   "cell_type": "code",
   "execution_count": 9,
   "metadata": {},
   "outputs": [],
   "source": [
    "# Knn was better but both models were pretty good"
   ]
  },
  {
   "cell_type": "markdown",
   "metadata": {},
   "source": [
    "## Summary"
   ]
  },
  {
   "cell_type": "markdown",
   "metadata": {},
   "source": [
    "Both the KNN and OLS models worked well.  The KNN model resulted in a 0.92 unweighted accuracy and a 0.93 weighted accuracy.  The OLS accuracy resulted in 0.85. Since the KNN resulted in a better accuracy, I would prefer it over the OLS in this instance."
   ]
  },
  {
   "cell_type": "code",
   "execution_count": 10,
   "metadata": {},
   "outputs": [],
   "source": [
    "# Would there be a situation where you would change your mind?  What about the data makes one better than\n",
    "# the other?"
   ]
  },
  {
   "cell_type": "markdown",
   "metadata": {},
   "source": [
    "In general KNN is the better model to use as it can handle datasets that are not necessarily linear. If a dataset is linear, OLS may out-perform KNN."
   ]
  },
  {
   "cell_type": "code",
   "execution_count": null,
   "metadata": {},
   "outputs": [],
   "source": []
  }
 ],
 "metadata": {
  "kernelspec": {
   "display_name": "Python 3",
   "language": "python",
   "name": "python3"
  },
  "language_info": {
   "codemirror_mode": {
    "name": "ipython",
    "version": 3
   },
   "file_extension": ".py",
   "mimetype": "text/x-python",
   "name": "python",
   "nbconvert_exporter": "python",
   "pygments_lexer": "ipython3",
   "version": "3.6.5"
  }
 },
 "nbformat": 4,
 "nbformat_minor": 2
}
